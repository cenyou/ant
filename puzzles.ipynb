{
 "cells": [
  {
   "cell_type": "code",
   "execution_count": 12,
   "metadata": {},
   "outputs": [],
   "source": [
    "import numpy as np\n",
    "import math\n",
    "from matplotlib import pyplot as plt\n",
    "from ant.ant import Ant"
   ]
  },
  {
   "cell_type": "markdown",
   "metadata": {},
   "source": [
    "An ant leaves its anthill in order to forage for food. It moves with the speed of 10cm per second, but it doesn’t know where to go, therefore every second it moves randomly 10cm directly north, south, east or west with equal probability."
   ]
  },
  {
   "cell_type": "code",
   "execution_count": 13,
   "metadata": {},
   "outputs": [
    {
     "name": "stdout",
     "output_type": "stream",
     "text": [
      "initially\n",
      "    t: 0, loc: [0 0]\n",
      "execute single_move\n",
      "    t: 1, loc: [  0 -10]\n",
      "reset\n",
      "    t: 0, loc: [0 0]\n",
      "move 3 steps\n",
      "    t: 3, loc: [10 20]\n"
     ]
    }
   ],
   "source": [
    "ant = Ant(speed=10, seed=1)\n",
    "print(f'initially\\n    t: {ant.time}, loc: {ant.location}')\n",
    "ant.single_move()\n",
    "print(f'execute single_move\\n    t: {ant.time}, loc: {ant.location}')\n",
    "ant.reset()\n",
    "print(f'reset\\n    t: {ant.time}, loc: {ant.location}')\n",
    "ant.move(n_steps=3)\n",
    "print(f'move 3 steps\\n    t: {ant.time}, loc: {ant.location}')"
   ]
  },
  {
   "cell_type": "markdown",
   "metadata": {},
   "source": [
    "We rephrase the behavior first.\n",
    "\n",
    "We may choose 4 actions, east positive, east negative, north positive or north negative, with equal probability.\n",
    "This is the same as consider action $A=(D, V)$, $D$ is the direction east or north, $V$ is value $10$ or $-10$.\n",
    "We add time stamp $A_t=(D_t, V_t), \\forall t\\in\\mathbb{N}$."
   ]
  },
  {
   "cell_type": "markdown",
   "metadata": {},
   "source": [
    "# Puzzle 1"
   ]
  },
  {
   "cell_type": "markdown",
   "metadata": {},
   "source": [
    "If the food is located on east-west lines 20cm to the north and 20cm to the south, as well as on north-south lines 20cm to the east and 20cm to the west from the anthill, how long will it take the ant to reach it on average?"
   ]
  },
  {
   "cell_type": "code",
   "execution_count": null,
   "metadata": {},
   "outputs": [],
   "source": [
    "fig, ax = plt.subplots(1, 1, figsize=(2.5, 2))\n",
    "ax.axhline(-20, color='k', linewidth=3.0, linestyle=\"-\", alpha=1, label='food')\n",
    "ax.axhline(20, color='k', linewidth=3.0, linestyle=\"-\", alpha=1)\n",
    "ax.axvline(-20, color='k', linewidth=3.0, linestyle=\"-\", alpha=1)\n",
    "ax.axvline(20, color='k', linewidth=3.0, linestyle=\"-\", alpha=1)\n",
    "ax.plot([0], [0], 'o', color='C0', label='ant, t=0')\n",
    "ax.legend()\n",
    "plt.show()"
   ]
  },
  {
   "cell_type": "markdown",
   "metadata": {},
   "source": [
    "## Semi-analytical solution\n"
   ]
  },
  {
   "cell_type": "markdown",
   "metadata": {},
   "source": [
    "### First fix $D_t$, say we always go east or west: $D_t=$ east, $V_t = -10, 10$.\n",
    "Then ant location at $t$ is $a_t = \\sum_i V_i$.\n",
    "\n",
    "Firstly it is not possible to get food when $t$ is odd.\n",
    "\n",
    "Secondly, if we want $a_t = 20$ but $a_{i} \\in [-10, 10] \\forall i < t$, then $a_{t-1}=10, a_{t-2}=0, a_{t-3}=10 \\ or \\ -10, a_{t-4}=0$.\n",
    "\n",
    "\n",
    "Then $p(a_t=20)= \\frac{1}{4} p(a_{t-2}=0) = \\frac{1}{8}p(a_{t-4}=0)=...=\\frac{1}{2^{t/2+1}}$.\n",
    "Here we omit $a_{i} \\in [-10, 10] \\forall i < t$ but this is taken into consideration.\n",
    "\n",
    "As food can also be found at $a_t = -20, p(\\text{food first reached at }t)=\\frac{1}{2^{t/2}}$\n",
    "\n",
    "Additionally, $p(\\text{no food reached until }t)=p(a_2=0, a_4=0, ..., a_{[t/2]*2}=0)=\\frac{1}{2^{[t/2]}}$."
   ]
  },
  {
   "cell_type": "markdown",
   "metadata": {},
   "source": [
    "### Add direction\n",
    "\n",
    "What we can do here is to cluster the sequence of actions $\\{ (D_i, V_i)|i=1,...,t \\}$ into $E_{t_e} = \\{ (D_j=\\text{east}, V_j) | j=0,...,t_e \\}$ and $N_{t_n} = \\{ (D_j=\\text{north}, V_j)|j=1,...,t_n \\}$, $t_n + t_e=t$.\n",
    "\n",
    "\\begin{align*}\n",
    "p(\\text{food first reached along north-south at }t)\n",
    "&= p(D_t=\\text{north}, D_1, D_2, ...) \\frac{1}{2^{t_n/2}} \\frac{1}{2^{[t_e/2]}}\\\\\n",
    "&= \\frac{1}{2^t} \\frac{(t-1)!}{(t_n-1)!t_e!} \\frac{1}{2^{t_n/2}} \\frac{1}{2^{[t_e/2]}}\\\\\n",
    "&= \\frac{1}{2^{t + t_n/2 + [t_e/2]}} \\frac{(t-1)!}{(t_n-1)!t_e!}, t_n \\text{ is even,} t_e \\text{ can be zero,}\\\\\n",
    "\n",
    "p(\\text{food first reached along east-west at }t)\n",
    "&= p(D_t=\\text{east}, D_1, D_2, ...) \\frac{1}{2^{[t_n/2]}} \\frac{1}{2^{t_e/2}}\\\\\n",
    "&= \\frac{1}{2^{t + [t_n/2] + t_e/2}} \\frac{(t-1)!}{t_n!(t_e-1)!}, t_e \\text{ is even,} t_n \\text{ can be zero}.\n",
    "\\end{align*}\n"
   ]
  },
  {
   "cell_type": "markdown",
   "metadata": {},
   "source": [
    "Therefore,\n",
    "\n",
    "\\begin{align*}\n",
    "\\text{when }\n",
    "t_n, t_e \\text{ are even, }\n",
    "p(\\text{food first reached at }t)\n",
    "&=\n",
    "\\frac{1}{2^{3t/2}} \\frac{(t-1)!}{(t_n-1)!t_e!} + \\frac{1}{2^{3t/2}} \\frac{(t-1)!}{t_n!(t_e-1)!}\\\\\n",
    "&=\n",
    "\\frac{1}{2^{3t/2}} \\frac{t!}{t_n!t_e!}\n",
    ",\\\\\n",
    "\n",
    "\\text{when }\n",
    "t_n \\text{ is even}, t_e \\text{ is odd, }\n",
    "p(\\text{food first reached at }t)\n",
    "&=\n",
    "\\frac{1}{2^{(3t - 1)/2}} \\frac{(t-1)!}{(t_n-1)!t_e!},\\\\\n",
    "\n",
    "\\text{when }\n",
    "t_n \\text{ is odd}, t_e \\text{ is even }\n",
    "p(\\text{food first reached at }t)\n",
    "&=\n",
    "\\frac{1}{2^{(3t - 1)/2}} \\frac{(t-1)!}{t_n!(t_e-1)!},\n",
    "\\end{align*}\n",
    "\n",
    "$\\mathbb{E}[t] = \\sum_t t p(\\text{food first reached at }t)$.\n"
   ]
  },
  {
   "cell_type": "code",
   "execution_count": 14,
   "metadata": {},
   "outputs": [
    {
     "name": "stdout",
     "output_type": "stream",
     "text": [
      "4.499124241631264\n"
     ]
    }
   ],
   "source": [
    "def one_term(tn, te):\n",
    "    t = tn + te\n",
    "    if t%2 == 0:\n",
    "        assert tn%2 == 0, f'{tn}, {te}'\n",
    "        assert te%2 == 0, f'{tn}, {te}'\n",
    "        exp_term = 2**(-3*t/2)\n",
    "        fac_term = math.factorial(tn + te) / math.factorial(tn) / math.factorial(te)\n",
    "    else:\n",
    "        exp_term = 2**(-(3*t-1)/2)\n",
    "        if tn%2 == 1:\n",
    "            fac_term = math.factorial(tn + te - 1) / math.factorial(tn) / math.factorial(te - 1)\n",
    "        else:\n",
    "            fac_term = math.factorial(tn + te - 1) / math.factorial(tn - 1) / math.factorial(te)\n",
    "    return t * fac_term * exp_term\n",
    "\n",
    "ans = 0\n",
    "for tn in range(20):\n",
    "    for te in range(20):\n",
    "        if tn==0 and te==0: # p=0\n",
    "            continue\n",
    "        if tn%2==1 and te%2==1:# p=0\n",
    "            continue\n",
    "        if tn%2==1 and te==0:\n",
    "            continue\n",
    "        if tn==0 and te%2==1:\n",
    "            continue\n",
    "        ans += one_term(tn, te)\n",
    "print(ans)"
   ]
  },
  {
   "cell_type": "markdown",
   "metadata": {},
   "source": [
    "## Solve by MC sampling\n",
    "\n",
    "Report time step once the ant location in coordinate has inf norm equal $20$."
   ]
  },
  {
   "cell_type": "code",
   "execution_count": 15,
   "metadata": {},
   "outputs": [
    {
     "name": "stdout",
     "output_type": "stream",
     "text": [
      "average time: 4.39 \n"
     ]
    }
   ],
   "source": [
    "n_try = 100\n",
    "reach_time = []\n",
    "for _ in range(n_try):\n",
    "    ant.reset()\n",
    "    while True:\n",
    "        ant.single_move()\n",
    "        location_after_move = ant.location # 1D np.ndarray of coordinate\n",
    "        food_reached = (np.linalg.norm(location_after_move, ord=np.inf)==20) # bool\n",
    "        if food_reached:\n",
    "            reach_time.append(ant.time)\n",
    "            #print(f'get food with {ant.time} steps')\n",
    "            break\n",
    "print(f'average time: {np.mean(reach_time)} ')\n"
   ]
  },
  {
   "cell_type": "markdown",
   "metadata": {},
   "source": [
    "# Puzzle 2"
   ]
  },
  {
   "cell_type": "markdown",
   "metadata": {},
   "source": [
    "What is the average time the ant will reach food if it is located only on a diagonal line passing through (10cm, 0cm) and (0cm, 10cm) points?"
   ]
  },
  {
   "cell_type": "code",
   "execution_count": null,
   "metadata": {},
   "outputs": [],
   "source": [
    "fig, ax = plt.subplots(1, 1, figsize=(2.5, 2))\n",
    "ax.plot([-40, 50], [50, -40], color='k', linewidth=3.0, linestyle=\"-\", alpha=1)\n",
    "ax.plot([0], [0], 'o', color='C0', label='ant, t=0')\n",
    "ax.legend()\n",
    "ax.set_xlim([-16, 16])\n",
    "ax.set_ylim([-16, 16])\n",
    "plt.show()"
   ]
  },
  {
   "cell_type": "markdown",
   "metadata": {},
   "source": [
    "## Solve by MC sampling\n",
    "\n",
    "The ant location is $(x, y)$, check time when $x + y = 10$."
   ]
  },
  {
   "cell_type": "code",
   "execution_count": null,
   "metadata": {},
   "outputs": [],
   "source": [
    "n_try = 100\n",
    "reach_time = []\n",
    "for _ in range(n_try):\n",
    "    ant.reset()\n",
    "    while True:\n",
    "        ant.single_move()\n",
    "        location_after_move = ant.location # 1D np.ndarray of coordinate\n",
    "        food_reached = (np.sum(location_after_move)==10) # bool\n",
    "        if food_reached:\n",
    "            reach_time.append(ant.time)\n",
    "            #print(f'get food with {ant.time} steps')\n",
    "            break\n",
    "print(f'average time: {np.mean(reach_time)} ')"
   ]
  },
  {
   "cell_type": "markdown",
   "metadata": {},
   "source": [
    "# Puzzle 3"
   ]
  },
  {
   "cell_type": "markdown",
   "metadata": {},
   "source": [
    "if food is located outside an area defined by ( (x – 2.5cm) / 30cm )2 + ( (y – 2.5cm) / 40cm )2 < 1 in coordinate system where the anthill is located at (x = 0cm, y = 0cm)?"
   ]
  },
  {
   "cell_type": "markdown",
   "metadata": {},
   "source": [
    "$( (x – 2.5) / 30 )^2 + ( (y – 2.5) / 40 )^2 \\geq 1$?\n",
    "\n",
    "The original problem means food is everywhere nearby"
   ]
  },
  {
   "cell_type": "code",
   "execution_count": 16,
   "metadata": {},
   "outputs": [],
   "source": [
    "def constraint(x, y):\n",
    "    return (x - 2.5)**2/900 + (y - 2.5)**2/1600 - 1"
   ]
  },
  {
   "cell_type": "code",
   "execution_count": null,
   "metadata": {},
   "outputs": [],
   "source": [
    "coord = np.random.uniform(-100, 100, size=[5000,2])\n",
    "mask = constraint(coord[...,0], coord[...,1]) >= 0\n",
    "food = coord[mask]\n",
    "\n",
    "fig, ax = plt.subplots(1, 1, figsize=(2.5, 2))\n",
    "ax.plot(food[...,0], food[...,1], 'x', color='k', label='food')\n",
    "ax.plot([0], [0], 'o', color='C0', label='ant, t=0')\n",
    "ax.legend()\n",
    "ax.set_xlim([-50, 50])\n",
    "ax.set_ylim([-50, 50])\n",
    "plt.show()"
   ]
  },
  {
   "cell_type": "markdown",
   "metadata": {},
   "source": [
    "## Solve by MC sampling\n",
    "\n",
    "The ant location is $(x, y)$, check time when $x + y = 10$."
   ]
  },
  {
   "cell_type": "code",
   "execution_count": 17,
   "metadata": {},
   "outputs": [
    {
     "name": "stdout",
     "output_type": "stream",
     "text": [
      "average time: 14.198 \n"
     ]
    }
   ],
   "source": [
    "n_try = 1000\n",
    "reach_time = []\n",
    "for _ in range(n_try):\n",
    "    ant.reset()\n",
    "    while True:\n",
    "        ant.single_move()\n",
    "        location_after_move = ant.location # 1D np.ndarray of coordinate\n",
    "        food_reached = (constraint(*location_after_move)>=0) # bool\n",
    "        if food_reached:\n",
    "            reach_time.append(ant.time)\n",
    "            break\n",
    "print(f'average time: {np.mean(reach_time)} ')"
   ]
  }
 ],
 "metadata": {
  "kernelspec": {
   "display_name": "ant",
   "language": "python",
   "name": "python3"
  },
  "language_info": {
   "codemirror_mode": {
    "name": "ipython",
    "version": 3
   },
   "file_extension": ".py",
   "mimetype": "text/x-python",
   "name": "python",
   "nbconvert_exporter": "python",
   "pygments_lexer": "ipython3",
   "version": "3.8.19"
  }
 },
 "nbformat": 4,
 "nbformat_minor": 2
}
